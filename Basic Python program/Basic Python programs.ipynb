{
 "cells": [
  {
   "cell_type": "code",
   "execution_count": 8,
   "id": "6dbccec8",
   "metadata": {},
   "outputs": [
    {
     "name": "stdout",
     "output_type": "stream",
     "text": [
      "Twinkle, Twinkle, little stars,\n",
      "\tHow I wonder what you are!\n",
      "\t\tUp above the world so high,\n",
      "\t\tLike a diamond up in the sky.\n",
      "Twinkle, twinkle little star,\n",
      "\tHow I wonder what you are\n"
     ]
    }
   ],
   "source": [
    "#program to write Twinkle Twinkle little stars\n",
    "print(\"Twinkle, Twinkle, little stars,\\n\\tHow I wonder what you are!\\n\\t\\tUp above the world so high,\\n\\t\\tLike a diamond up in the sky.\\nTwinkle, twinkle little star,\\n\\tHow I wonder what you are\")"
   ]
  },
  {
   "cell_type": "code",
   "execution_count": 9,
   "id": "b52c18dc",
   "metadata": {},
   "outputs": [
    {
     "name": "stdout",
     "output_type": "stream",
     "text": [
      "The current Python version is 3.9.7 (default, Sep 16 2021, 16:59:28) [MSC v.1916 64 bit (AMD64)]\n"
     ]
    }
   ],
   "source": [
    "#program to get python version using system module\n",
    "import sys\n",
    "print(\"The current Python version is\", sys.version)"
   ]
  },
  {
   "cell_type": "code",
   "execution_count": 8,
   "id": "d26853af",
   "metadata": {},
   "outputs": [
    {
     "name": "stdout",
     "output_type": "stream",
     "text": [
      "The current date and time is as follows 2021-12-30 19:41:10.036572\n"
     ]
    }
   ],
   "source": [
    "#program to get current date and time using datetime module\n",
    "from datetime import datetime\n",
    "current = datetime.now()\n",
    "print(\"The current date and time is as follows\",current)"
   ]
  },
  {
   "cell_type": "code",
   "execution_count": 12,
   "id": "92aef49b",
   "metadata": {},
   "outputs": [
    {
     "name": "stdout",
     "output_type": "stream",
     "text": [
      "Enter the radius of Circle: 9.6\n",
      "The area of Circle is  30.159289474462014\n"
     ]
    }
   ],
   "source": [
    "#program to calculate the area of Circle using math module to get the value of Pi\n",
    "import math\n",
    "radius = float(input(\"Enter the radius of Circle: \"))\n",
    "area = math.pi * radius\n",
    "print(\"The area of Circle is \", area)"
   ]
  },
  {
   "cell_type": "code",
   "execution_count": 13,
   "id": "db109f54",
   "metadata": {},
   "outputs": [
    {
     "name": "stdout",
     "output_type": "stream",
     "text": [
      "Enter first name: Irfan\n",
      "Enter Last name: Ali\n",
      "Ali Irfan\n"
     ]
    }
   ],
   "source": [
    "#program to get user first name and last name and print them in reverse order\n",
    "first_name = input(\"Enter first name: \")\n",
    "last_name = input(\"Enter Last name: \")\n",
    "full_name = last_name + \" \" + first_name\n",
    "print(full_name)"
   ]
  },
  {
   "cell_type": "code",
   "execution_count": 16,
   "id": "9703bf8a",
   "metadata": {},
   "outputs": [
    {
     "name": "stdout",
     "output_type": "stream",
     "text": [
      "Enter first number: 9\n",
      "Enter second number: 5\n",
      "THe addtion of two number is as follows:  14.0\n"
     ]
    }
   ],
   "source": [
    "#program to input two numbers and perform addition on them\n",
    "first_number = float(input(\"Enter first number: \"))\n",
    "second_number = float(input(\"Enter second number: \"))\n",
    "summation = first_number + second_number\n",
    "print(\"THe addtion of two number is as follows: \", summation)"
   ]
  },
  {
   "cell_type": "code",
   "execution_count": null,
   "id": "51426826",
   "metadata": {},
   "outputs": [],
   "source": []
  }
 ],
 "metadata": {
  "kernelspec": {
   "display_name": "Python 3 (ipykernel)",
   "language": "python",
   "name": "python3"
  },
  "language_info": {
   "codemirror_mode": {
    "name": "ipython",
    "version": 3
   },
   "file_extension": ".py",
   "mimetype": "text/x-python",
   "name": "python",
   "nbconvert_exporter": "python",
   "pygments_lexer": "ipython3",
   "version": "3.9.7"
  }
 },
 "nbformat": 4,
 "nbformat_minor": 5
}
